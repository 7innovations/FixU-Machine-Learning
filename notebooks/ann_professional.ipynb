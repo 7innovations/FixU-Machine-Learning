{
 "cells": [
  {
   "cell_type": "markdown",
   "metadata": {},
   "source": [
    "# FixU Professional"
   ]
  },
  {
   "cell_type": "markdown",
   "metadata": {},
   "source": [
    "## Library"
   ]
  },
  {
   "cell_type": "code",
   "execution_count": 1,
   "metadata": {},
   "outputs": [],
   "source": [
    "# Import libraries\n",
    "import pandas as pd\n",
    "import numpy as np\n",
    "\n",
    "import seaborn as sns\n",
    "import matplotlib.pyplot as plt\n",
    "\n",
    "import tensorflow as tf\n",
    "from sklearn.model_selection import train_test_split\n",
    "from sklearn.metrics import classification_report, confusion_matrix"
   ]
  },
  {
   "cell_type": "markdown",
   "metadata": {},
   "source": [
    "## Data Wrangling"
   ]
  },
  {
   "cell_type": "markdown",
   "metadata": {},
   "source": [
    "### Gathering Data"
   ]
  },
  {
   "cell_type": "code",
   "execution_count": 2,
   "metadata": {},
   "outputs": [],
   "source": [
    "# Read CSV\n",
    "df = pd.read_csv('https://raw.githubusercontent.com/7innovations/FixU-Machine-Learning/refs/heads/main/dataset/depression.csv')"
   ]
  },
  {
   "cell_type": "code",
   "execution_count": 3,
   "metadata": {},
   "outputs": [
    {
     "data": {
      "application/vnd.microsoft.datawrangler.viewer.v0+json": {
       "columns": [
        {
         "name": "index",
         "rawType": "int64",
         "type": "integer"
        },
        {
         "name": "Name",
         "rawType": "object",
         "type": "string"
        },
        {
         "name": "Gender",
         "rawType": "object",
         "type": "string"
        },
        {
         "name": "Age",
         "rawType": "int64",
         "type": "integer"
        },
        {
         "name": "City",
         "rawType": "object",
         "type": "string"
        },
        {
         "name": "Working Professional or Student",
         "rawType": "object",
         "type": "string"
        },
        {
         "name": "Profession",
         "rawType": "object",
         "type": "string"
        },
        {
         "name": "Academic Pressure",
         "rawType": "float64",
         "type": "float"
        },
        {
         "name": "Work Pressure",
         "rawType": "float64",
         "type": "float"
        },
        {
         "name": "CGPA",
         "rawType": "float64",
         "type": "float"
        },
        {
         "name": "Study Satisfaction",
         "rawType": "float64",
         "type": "float"
        },
        {
         "name": "Job Satisfaction",
         "rawType": "float64",
         "type": "float"
        },
        {
         "name": "Sleep Duration",
         "rawType": "object",
         "type": "string"
        },
        {
         "name": "Dietary Habits",
         "rawType": "object",
         "type": "string"
        },
        {
         "name": "Degree",
         "rawType": "object",
         "type": "string"
        },
        {
         "name": "Have you ever had suicidal thoughts ?",
         "rawType": "object",
         "type": "string"
        },
        {
         "name": "Work/Study Hours",
         "rawType": "int64",
         "type": "integer"
        },
        {
         "name": "Financial Stress",
         "rawType": "int64",
         "type": "integer"
        },
        {
         "name": "Family History of Mental Illness",
         "rawType": "object",
         "type": "string"
        },
        {
         "name": "Depression",
         "rawType": "object",
         "type": "string"
        }
       ],
       "ref": "64f01e52-662a-43b7-b54e-16ce6238234c",
       "rows": [
        [
         "0",
         "Pooja",
         "Female",
         "37",
         "Ghaziabad",
         "Working Professional",
         "Teacher",
         null,
         "2.0",
         null,
         null,
         "4.0",
         "7-8 hours",
         "Moderate",
         "MA",
         "No",
         "6",
         "2",
         "No",
         "No"
        ],
        [
         "1",
         "Reyansh",
         "Male",
         "60",
         "Kalyan",
         "Working Professional",
         "Financial Analyst",
         null,
         "4.0",
         null,
         null,
         "3.0",
         "5-6 hours",
         "Unhealthy",
         "B.Com",
         "Yes",
         "0",
         "4",
         "Yes",
         "No"
        ],
        [
         "2",
         "Manvi",
         "Female",
         "42",
         "Bhopal",
         "Working Professional",
         "Teacher",
         null,
         "2.0",
         null,
         null,
         "3.0",
         "5-6 hours",
         "Moderate",
         "M.Com",
         "No",
         "0",
         "2",
         "No",
         "No"
        ],
        [
         "3",
         "Isha",
         "Female",
         "44",
         "Thane",
         "Working Professional",
         "Teacher",
         null,
         "3.0",
         null,
         null,
         "5.0",
         "7-8 hours",
         "Healthy",
         "MD",
         "Yes",
         "1",
         "2",
         "Yes",
         "No"
        ],
        [
         "4",
         "Aarav",
         "Male",
         "48",
         "Indore",
         "Working Professional",
         "UX/UI Designer",
         null,
         "4.0",
         null,
         null,
         "3.0",
         "7-8 hours",
         "Moderate",
         "BE",
         "Yes",
         "6",
         "5",
         "Yes",
         "No"
        ]
       ],
       "shape": {
        "columns": 19,
        "rows": 5
       }
      },
      "text/html": [
       "<div>\n",
       "<style scoped>\n",
       "    .dataframe tbody tr th:only-of-type {\n",
       "        vertical-align: middle;\n",
       "    }\n",
       "\n",
       "    .dataframe tbody tr th {\n",
       "        vertical-align: top;\n",
       "    }\n",
       "\n",
       "    .dataframe thead th {\n",
       "        text-align: right;\n",
       "    }\n",
       "</style>\n",
       "<table border=\"1\" class=\"dataframe\">\n",
       "  <thead>\n",
       "    <tr style=\"text-align: right;\">\n",
       "      <th></th>\n",
       "      <th>Name</th>\n",
       "      <th>Gender</th>\n",
       "      <th>Age</th>\n",
       "      <th>City</th>\n",
       "      <th>Working Professional or Student</th>\n",
       "      <th>Profession</th>\n",
       "      <th>Academic Pressure</th>\n",
       "      <th>Work Pressure</th>\n",
       "      <th>CGPA</th>\n",
       "      <th>Study Satisfaction</th>\n",
       "      <th>Job Satisfaction</th>\n",
       "      <th>Sleep Duration</th>\n",
       "      <th>Dietary Habits</th>\n",
       "      <th>Degree</th>\n",
       "      <th>Have you ever had suicidal thoughts ?</th>\n",
       "      <th>Work/Study Hours</th>\n",
       "      <th>Financial Stress</th>\n",
       "      <th>Family History of Mental Illness</th>\n",
       "      <th>Depression</th>\n",
       "    </tr>\n",
       "  </thead>\n",
       "  <tbody>\n",
       "    <tr>\n",
       "      <th>0</th>\n",
       "      <td>Pooja</td>\n",
       "      <td>Female</td>\n",
       "      <td>37</td>\n",
       "      <td>Ghaziabad</td>\n",
       "      <td>Working Professional</td>\n",
       "      <td>Teacher</td>\n",
       "      <td>NaN</td>\n",
       "      <td>2.0</td>\n",
       "      <td>NaN</td>\n",
       "      <td>NaN</td>\n",
       "      <td>4.0</td>\n",
       "      <td>7-8 hours</td>\n",
       "      <td>Moderate</td>\n",
       "      <td>MA</td>\n",
       "      <td>No</td>\n",
       "      <td>6</td>\n",
       "      <td>2</td>\n",
       "      <td>No</td>\n",
       "      <td>No</td>\n",
       "    </tr>\n",
       "    <tr>\n",
       "      <th>1</th>\n",
       "      <td>Reyansh</td>\n",
       "      <td>Male</td>\n",
       "      <td>60</td>\n",
       "      <td>Kalyan</td>\n",
       "      <td>Working Professional</td>\n",
       "      <td>Financial Analyst</td>\n",
       "      <td>NaN</td>\n",
       "      <td>4.0</td>\n",
       "      <td>NaN</td>\n",
       "      <td>NaN</td>\n",
       "      <td>3.0</td>\n",
       "      <td>5-6 hours</td>\n",
       "      <td>Unhealthy</td>\n",
       "      <td>B.Com</td>\n",
       "      <td>Yes</td>\n",
       "      <td>0</td>\n",
       "      <td>4</td>\n",
       "      <td>Yes</td>\n",
       "      <td>No</td>\n",
       "    </tr>\n",
       "    <tr>\n",
       "      <th>2</th>\n",
       "      <td>Manvi</td>\n",
       "      <td>Female</td>\n",
       "      <td>42</td>\n",
       "      <td>Bhopal</td>\n",
       "      <td>Working Professional</td>\n",
       "      <td>Teacher</td>\n",
       "      <td>NaN</td>\n",
       "      <td>2.0</td>\n",
       "      <td>NaN</td>\n",
       "      <td>NaN</td>\n",
       "      <td>3.0</td>\n",
       "      <td>5-6 hours</td>\n",
       "      <td>Moderate</td>\n",
       "      <td>M.Com</td>\n",
       "      <td>No</td>\n",
       "      <td>0</td>\n",
       "      <td>2</td>\n",
       "      <td>No</td>\n",
       "      <td>No</td>\n",
       "    </tr>\n",
       "    <tr>\n",
       "      <th>3</th>\n",
       "      <td>Isha</td>\n",
       "      <td>Female</td>\n",
       "      <td>44</td>\n",
       "      <td>Thane</td>\n",
       "      <td>Working Professional</td>\n",
       "      <td>Teacher</td>\n",
       "      <td>NaN</td>\n",
       "      <td>3.0</td>\n",
       "      <td>NaN</td>\n",
       "      <td>NaN</td>\n",
       "      <td>5.0</td>\n",
       "      <td>7-8 hours</td>\n",
       "      <td>Healthy</td>\n",
       "      <td>MD</td>\n",
       "      <td>Yes</td>\n",
       "      <td>1</td>\n",
       "      <td>2</td>\n",
       "      <td>Yes</td>\n",
       "      <td>No</td>\n",
       "    </tr>\n",
       "    <tr>\n",
       "      <th>4</th>\n",
       "      <td>Aarav</td>\n",
       "      <td>Male</td>\n",
       "      <td>48</td>\n",
       "      <td>Indore</td>\n",
       "      <td>Working Professional</td>\n",
       "      <td>UX/UI Designer</td>\n",
       "      <td>NaN</td>\n",
       "      <td>4.0</td>\n",
       "      <td>NaN</td>\n",
       "      <td>NaN</td>\n",
       "      <td>3.0</td>\n",
       "      <td>7-8 hours</td>\n",
       "      <td>Moderate</td>\n",
       "      <td>BE</td>\n",
       "      <td>Yes</td>\n",
       "      <td>6</td>\n",
       "      <td>5</td>\n",
       "      <td>Yes</td>\n",
       "      <td>No</td>\n",
       "    </tr>\n",
       "  </tbody>\n",
       "</table>\n",
       "</div>"
      ],
      "text/plain": [
       "      Name  Gender  Age       City Working Professional or Student  \\\n",
       "0    Pooja  Female   37  Ghaziabad            Working Professional   \n",
       "1  Reyansh    Male   60     Kalyan            Working Professional   \n",
       "2    Manvi  Female   42     Bhopal            Working Professional   \n",
       "3     Isha  Female   44      Thane            Working Professional   \n",
       "4    Aarav    Male   48     Indore            Working Professional   \n",
       "\n",
       "          Profession  Academic Pressure  Work Pressure  CGPA  \\\n",
       "0            Teacher                NaN            2.0   NaN   \n",
       "1  Financial Analyst                NaN            4.0   NaN   \n",
       "2            Teacher                NaN            2.0   NaN   \n",
       "3            Teacher                NaN            3.0   NaN   \n",
       "4     UX/UI Designer                NaN            4.0   NaN   \n",
       "\n",
       "   Study Satisfaction  Job Satisfaction Sleep Duration Dietary Habits Degree  \\\n",
       "0                 NaN               4.0      7-8 hours       Moderate     MA   \n",
       "1                 NaN               3.0      5-6 hours      Unhealthy  B.Com   \n",
       "2                 NaN               3.0      5-6 hours       Moderate  M.Com   \n",
       "3                 NaN               5.0      7-8 hours        Healthy     MD   \n",
       "4                 NaN               3.0      7-8 hours       Moderate     BE   \n",
       "\n",
       "  Have you ever had suicidal thoughts ?  Work/Study Hours  Financial Stress  \\\n",
       "0                                    No                 6                 2   \n",
       "1                                   Yes                 0                 4   \n",
       "2                                    No                 0                 2   \n",
       "3                                   Yes                 1                 2   \n",
       "4                                   Yes                 6                 5   \n",
       "\n",
       "  Family History of Mental Illness Depression  \n",
       "0                               No         No  \n",
       "1                              Yes         No  \n",
       "2                               No         No  \n",
       "3                              Yes         No  \n",
       "4                              Yes         No  "
      ]
     },
     "execution_count": 3,
     "metadata": {},
     "output_type": "execute_result"
    }
   ],
   "source": [
    "# Display dataframe\n",
    "df.head()"
   ]
  },
  {
   "cell_type": "markdown",
   "metadata": {},
   "source": [
    "### Assessing Data"
   ]
  },
  {
   "cell_type": "code",
   "execution_count": 4,
   "metadata": {},
   "outputs": [
    {
     "name": "stdout",
     "output_type": "stream",
     "text": [
      "<class 'pandas.core.frame.DataFrame'>\n",
      "RangeIndex: 2556 entries, 0 to 2555\n",
      "Data columns (total 19 columns):\n",
      " #   Column                                 Non-Null Count  Dtype  \n",
      "---  ------                                 --------------  -----  \n",
      " 0   Name                                   2556 non-null   object \n",
      " 1   Gender                                 2556 non-null   object \n",
      " 2   Age                                    2556 non-null   int64  \n",
      " 3   City                                   2556 non-null   object \n",
      " 4   Working Professional or Student        2556 non-null   object \n",
      " 5   Profession                             1883 non-null   object \n",
      " 6   Academic Pressure                      502 non-null    float64\n",
      " 7   Work Pressure                          2054 non-null   float64\n",
      " 8   CGPA                                   502 non-null    float64\n",
      " 9   Study Satisfaction                     502 non-null    float64\n",
      " 10  Job Satisfaction                       2054 non-null   float64\n",
      " 11  Sleep Duration                         2556 non-null   object \n",
      " 12  Dietary Habits                         2556 non-null   object \n",
      " 13  Degree                                 2556 non-null   object \n",
      " 14  Have you ever had suicidal thoughts ?  2556 non-null   object \n",
      " 15  Work/Study Hours                       2556 non-null   int64  \n",
      " 16  Financial Stress                       2556 non-null   int64  \n",
      " 17  Family History of Mental Illness       2556 non-null   object \n",
      " 18  Depression                             2556 non-null   object \n",
      "dtypes: float64(5), int64(3), object(11)\n",
      "memory usage: 379.5+ KB\n"
     ]
    }
   ],
   "source": [
    "# Show summary information\n",
    "df.info()"
   ]
  },
  {
   "cell_type": "code",
   "execution_count": 5,
   "metadata": {},
   "outputs": [
    {
     "data": {
      "application/vnd.microsoft.datawrangler.viewer.v0+json": {
       "columns": [
        {
         "name": "index",
         "rawType": "object",
         "type": "string"
        },
        {
         "name": "0",
         "rawType": "int64",
         "type": "integer"
        }
       ],
       "ref": "21282ab9-85aa-4560-a108-206626669081",
       "rows": [
        [
         "Name",
         "0"
        ],
        [
         "Gender",
         "0"
        ],
        [
         "Age",
         "0"
        ],
        [
         "City",
         "0"
        ],
        [
         "Working Professional or Student",
         "0"
        ],
        [
         "Profession",
         "673"
        ],
        [
         "Academic Pressure",
         "2054"
        ],
        [
         "Work Pressure",
         "502"
        ],
        [
         "CGPA",
         "2054"
        ],
        [
         "Study Satisfaction",
         "2054"
        ],
        [
         "Job Satisfaction",
         "502"
        ],
        [
         "Sleep Duration",
         "0"
        ],
        [
         "Dietary Habits",
         "0"
        ],
        [
         "Degree",
         "0"
        ],
        [
         "Have you ever had suicidal thoughts ?",
         "0"
        ],
        [
         "Work/Study Hours",
         "0"
        ],
        [
         "Financial Stress",
         "0"
        ],
        [
         "Family History of Mental Illness",
         "0"
        ],
        [
         "Depression",
         "0"
        ]
       ],
       "shape": {
        "columns": 1,
        "rows": 19
       }
      },
      "text/plain": [
       "Name                                        0\n",
       "Gender                                      0\n",
       "Age                                         0\n",
       "City                                        0\n",
       "Working Professional or Student             0\n",
       "Profession                                673\n",
       "Academic Pressure                        2054\n",
       "Work Pressure                             502\n",
       "CGPA                                     2054\n",
       "Study Satisfaction                       2054\n",
       "Job Satisfaction                          502\n",
       "Sleep Duration                              0\n",
       "Dietary Habits                              0\n",
       "Degree                                      0\n",
       "Have you ever had suicidal thoughts ?       0\n",
       "Work/Study Hours                            0\n",
       "Financial Stress                            0\n",
       "Family History of Mental Illness            0\n",
       "Depression                                  0\n",
       "dtype: int64"
      ]
     },
     "execution_count": 5,
     "metadata": {},
     "output_type": "execute_result"
    }
   ],
   "source": [
    "# Check missing values\n",
    "df.isna().sum()"
   ]
  },
  {
   "cell_type": "code",
   "execution_count": 6,
   "metadata": {},
   "outputs": [
    {
     "data": {
      "text/plain": [
       "np.int64(0)"
      ]
     },
     "execution_count": 6,
     "metadata": {},
     "output_type": "execute_result"
    }
   ],
   "source": [
    "# Check duplicates\n",
    "df.duplicated().sum()"
   ]
  },
  {
   "cell_type": "markdown",
   "metadata": {},
   "source": [
    "### Cleaning Data"
   ]
  },
  {
   "cell_type": "code",
   "execution_count": 7,
   "metadata": {},
   "outputs": [],
   "source": [
    "# Drop columns\n",
    "df = df.drop(columns=[\n",
    "    'Name', \n",
    "    'City', \n",
    "    'Working Professional or Student', \n",
    "    'Profession', \n",
    "    'Academic Pressure', \n",
    "    'CGPA', \n",
    "    'Study Satisfaction', \n",
    "    'Degree'\n",
    "])"
   ]
  },
  {
   "cell_type": "code",
   "execution_count": 8,
   "metadata": {},
   "outputs": [],
   "source": [
    "# Rename columns\n",
    "df.rename(columns={\n",
    "    'Work/Study Hours': 'Work Hours',\n",
    "}, inplace=True)"
   ]
  },
  {
   "cell_type": "code",
   "execution_count": 9,
   "metadata": {},
   "outputs": [],
   "source": [
    "# Drop missing values\n",
    "df = df.dropna()"
   ]
  },
  {
   "cell_type": "code",
   "execution_count": 10,
   "metadata": {},
   "outputs": [
    {
     "data": {
      "application/vnd.microsoft.datawrangler.viewer.v0+json": {
       "columns": [
        {
         "name": "index",
         "rawType": "object",
         "type": "string"
        },
        {
         "name": "0",
         "rawType": "int64",
         "type": "integer"
        }
       ],
       "ref": "d05b1bbe-aa7d-4689-9265-94e922dd4b7f",
       "rows": [
        [
         "Gender",
         "0"
        ],
        [
         "Age",
         "0"
        ],
        [
         "Work Pressure",
         "0"
        ],
        [
         "Job Satisfaction",
         "0"
        ],
        [
         "Sleep Duration",
         "0"
        ],
        [
         "Dietary Habits",
         "0"
        ],
        [
         "Have you ever had suicidal thoughts ?",
         "0"
        ],
        [
         "Work Hours",
         "0"
        ],
        [
         "Financial Stress",
         "0"
        ],
        [
         "Family History of Mental Illness",
         "0"
        ],
        [
         "Depression",
         "0"
        ]
       ],
       "shape": {
        "columns": 1,
        "rows": 11
       }
      },
      "text/plain": [
       "Gender                                   0\n",
       "Age                                      0\n",
       "Work Pressure                            0\n",
       "Job Satisfaction                         0\n",
       "Sleep Duration                           0\n",
       "Dietary Habits                           0\n",
       "Have you ever had suicidal thoughts ?    0\n",
       "Work Hours                               0\n",
       "Financial Stress                         0\n",
       "Family History of Mental Illness         0\n",
       "Depression                               0\n",
       "dtype: int64"
      ]
     },
     "execution_count": 10,
     "metadata": {},
     "output_type": "execute_result"
    }
   ],
   "source": [
    "# Check missing values\n",
    "df.isna().sum()"
   ]
  },
  {
   "cell_type": "code",
   "execution_count": 11,
   "metadata": {},
   "outputs": [
    {
     "name": "stdout",
     "output_type": "stream",
     "text": [
      "<class 'pandas.core.frame.DataFrame'>\n",
      "Index: 2054 entries, 0 to 2554\n",
      "Data columns (total 11 columns):\n",
      " #   Column                                 Non-Null Count  Dtype  \n",
      "---  ------                                 --------------  -----  \n",
      " 0   Gender                                 2054 non-null   object \n",
      " 1   Age                                    2054 non-null   int64  \n",
      " 2   Work Pressure                          2054 non-null   float64\n",
      " 3   Job Satisfaction                       2054 non-null   float64\n",
      " 4   Sleep Duration                         2054 non-null   object \n",
      " 5   Dietary Habits                         2054 non-null   object \n",
      " 6   Have you ever had suicidal thoughts ?  2054 non-null   object \n",
      " 7   Work Hours                             2054 non-null   int64  \n",
      " 8   Financial Stress                       2054 non-null   int64  \n",
      " 9   Family History of Mental Illness       2054 non-null   object \n",
      " 10  Depression                             2054 non-null   object \n",
      "dtypes: float64(2), int64(3), object(6)\n",
      "memory usage: 192.6+ KB\n"
     ]
    }
   ],
   "source": [
    "# Show summary information\n",
    "df.info()"
   ]
  },
  {
   "cell_type": "markdown",
   "metadata": {},
   "source": [
    "## Data Preprocessing"
   ]
  },
  {
   "cell_type": "markdown",
   "metadata": {},
   "source": [
    "### Mapping"
   ]
  },
  {
   "cell_type": "code",
   "execution_count": 12,
   "metadata": {},
   "outputs": [],
   "source": [
    "# Mapping categorical varibles\n",
    "df['Gender'] = df['Gender'].map({\n",
    "    'Female': 0, \n",
    "    'Male': 1\n",
    "})\n",
    "\n",
    "df['Sleep Duration'] = df['Sleep Duration'].map({\n",
    "    'Less than 5 hours': 0,\n",
    "    '5-6 hours': 1,\n",
    "    '7-8 hours': 2,\n",
    "    'More than 8 hours': 3\n",
    "})\n",
    "\n",
    "df['Dietary Habits'] = df['Dietary Habits'].map({\n",
    "    'Unhealthy': 0, \n",
    "    'Moderate': 1, \n",
    "    'Healthy': 2\n",
    "})\n",
    "\n",
    "df['Have you ever had suicidal thoughts ?'] = df['Have you ever had suicidal thoughts ?'].map({\n",
    "    'No': 0, \n",
    "    'Yes': 1\n",
    "})\n",
    "\n",
    "df['Family History of Mental Illness'] = df['Family History of Mental Illness'].map({\n",
    "    'No': 0, \n",
    "    'Yes': 1\n",
    "})\n",
    "\n",
    "df['Depression'] = df['Depression'].map({\n",
    "    'No': 0,\n",
    "    'Yes': 1\n",
    "})"
   ]
  },
  {
   "cell_type": "code",
   "execution_count": 13,
   "metadata": {},
   "outputs": [],
   "source": [
    "# Change data types\n",
    "df = df.astype(int)"
   ]
  },
  {
   "cell_type": "code",
   "execution_count": 14,
   "metadata": {},
   "outputs": [
    {
     "data": {
      "application/vnd.microsoft.datawrangler.viewer.v0+json": {
       "columns": [
        {
         "name": "index",
         "rawType": "int64",
         "type": "integer"
        },
        {
         "name": "Gender",
         "rawType": "int64",
         "type": "integer"
        },
        {
         "name": "Age",
         "rawType": "int64",
         "type": "integer"
        },
        {
         "name": "Work Pressure",
         "rawType": "int64",
         "type": "integer"
        },
        {
         "name": "Job Satisfaction",
         "rawType": "int64",
         "type": "integer"
        },
        {
         "name": "Sleep Duration",
         "rawType": "int64",
         "type": "integer"
        },
        {
         "name": "Dietary Habits",
         "rawType": "int64",
         "type": "integer"
        },
        {
         "name": "Have you ever had suicidal thoughts ?",
         "rawType": "int64",
         "type": "integer"
        },
        {
         "name": "Work Hours",
         "rawType": "int64",
         "type": "integer"
        },
        {
         "name": "Financial Stress",
         "rawType": "int64",
         "type": "integer"
        },
        {
         "name": "Family History of Mental Illness",
         "rawType": "int64",
         "type": "integer"
        },
        {
         "name": "Depression",
         "rawType": "int64",
         "type": "integer"
        }
       ],
       "ref": "60f70139-4b0a-4096-b9dc-b54dcee0fce5",
       "rows": [
        [
         "0",
         "0",
         "37",
         "2",
         "4",
         "2",
         "1",
         "0",
         "6",
         "2",
         "0",
         "0"
        ],
        [
         "1",
         "1",
         "60",
         "4",
         "3",
         "1",
         "0",
         "1",
         "0",
         "4",
         "1",
         "0"
        ],
        [
         "2",
         "0",
         "42",
         "2",
         "3",
         "1",
         "1",
         "0",
         "0",
         "2",
         "0",
         "0"
        ],
        [
         "3",
         "0",
         "44",
         "3",
         "5",
         "2",
         "2",
         "1",
         "1",
         "2",
         "1",
         "0"
        ],
        [
         "4",
         "1",
         "48",
         "4",
         "3",
         "2",
         "1",
         "1",
         "6",
         "5",
         "1",
         "0"
        ]
       ],
       "shape": {
        "columns": 11,
        "rows": 5
       }
      },
      "text/html": [
       "<div>\n",
       "<style scoped>\n",
       "    .dataframe tbody tr th:only-of-type {\n",
       "        vertical-align: middle;\n",
       "    }\n",
       "\n",
       "    .dataframe tbody tr th {\n",
       "        vertical-align: top;\n",
       "    }\n",
       "\n",
       "    .dataframe thead th {\n",
       "        text-align: right;\n",
       "    }\n",
       "</style>\n",
       "<table border=\"1\" class=\"dataframe\">\n",
       "  <thead>\n",
       "    <tr style=\"text-align: right;\">\n",
       "      <th></th>\n",
       "      <th>Gender</th>\n",
       "      <th>Age</th>\n",
       "      <th>Work Pressure</th>\n",
       "      <th>Job Satisfaction</th>\n",
       "      <th>Sleep Duration</th>\n",
       "      <th>Dietary Habits</th>\n",
       "      <th>Have you ever had suicidal thoughts ?</th>\n",
       "      <th>Work Hours</th>\n",
       "      <th>Financial Stress</th>\n",
       "      <th>Family History of Mental Illness</th>\n",
       "      <th>Depression</th>\n",
       "    </tr>\n",
       "  </thead>\n",
       "  <tbody>\n",
       "    <tr>\n",
       "      <th>0</th>\n",
       "      <td>0</td>\n",
       "      <td>37</td>\n",
       "      <td>2</td>\n",
       "      <td>4</td>\n",
       "      <td>2</td>\n",
       "      <td>1</td>\n",
       "      <td>0</td>\n",
       "      <td>6</td>\n",
       "      <td>2</td>\n",
       "      <td>0</td>\n",
       "      <td>0</td>\n",
       "    </tr>\n",
       "    <tr>\n",
       "      <th>1</th>\n",
       "      <td>1</td>\n",
       "      <td>60</td>\n",
       "      <td>4</td>\n",
       "      <td>3</td>\n",
       "      <td>1</td>\n",
       "      <td>0</td>\n",
       "      <td>1</td>\n",
       "      <td>0</td>\n",
       "      <td>4</td>\n",
       "      <td>1</td>\n",
       "      <td>0</td>\n",
       "    </tr>\n",
       "    <tr>\n",
       "      <th>2</th>\n",
       "      <td>0</td>\n",
       "      <td>42</td>\n",
       "      <td>2</td>\n",
       "      <td>3</td>\n",
       "      <td>1</td>\n",
       "      <td>1</td>\n",
       "      <td>0</td>\n",
       "      <td>0</td>\n",
       "      <td>2</td>\n",
       "      <td>0</td>\n",
       "      <td>0</td>\n",
       "    </tr>\n",
       "    <tr>\n",
       "      <th>3</th>\n",
       "      <td>0</td>\n",
       "      <td>44</td>\n",
       "      <td>3</td>\n",
       "      <td>5</td>\n",
       "      <td>2</td>\n",
       "      <td>2</td>\n",
       "      <td>1</td>\n",
       "      <td>1</td>\n",
       "      <td>2</td>\n",
       "      <td>1</td>\n",
       "      <td>0</td>\n",
       "    </tr>\n",
       "    <tr>\n",
       "      <th>4</th>\n",
       "      <td>1</td>\n",
       "      <td>48</td>\n",
       "      <td>4</td>\n",
       "      <td>3</td>\n",
       "      <td>2</td>\n",
       "      <td>1</td>\n",
       "      <td>1</td>\n",
       "      <td>6</td>\n",
       "      <td>5</td>\n",
       "      <td>1</td>\n",
       "      <td>0</td>\n",
       "    </tr>\n",
       "  </tbody>\n",
       "</table>\n",
       "</div>"
      ],
      "text/plain": [
       "   Gender  Age  Work Pressure  Job Satisfaction  Sleep Duration  \\\n",
       "0       0   37              2                 4               2   \n",
       "1       1   60              4                 3               1   \n",
       "2       0   42              2                 3               1   \n",
       "3       0   44              3                 5               2   \n",
       "4       1   48              4                 3               2   \n",
       "\n",
       "   Dietary Habits  Have you ever had suicidal thoughts ?  Work Hours  \\\n",
       "0               1                                      0           6   \n",
       "1               0                                      1           0   \n",
       "2               1                                      0           0   \n",
       "3               2                                      1           1   \n",
       "4               1                                      1           6   \n",
       "\n",
       "   Financial Stress  Family History of Mental Illness  Depression  \n",
       "0                 2                                 0           0  \n",
       "1                 4                                 1           0  \n",
       "2                 2                                 0           0  \n",
       "3                 2                                 1           0  \n",
       "4                 5                                 1           0  "
      ]
     },
     "execution_count": 14,
     "metadata": {},
     "output_type": "execute_result"
    }
   ],
   "source": [
    "# Display dataframe\n",
    "df.head()"
   ]
  },
  {
   "cell_type": "markdown",
   "metadata": {},
   "source": [
    "### Data Spliting"
   ]
  },
  {
   "cell_type": "code",
   "execution_count": 15,
   "metadata": {},
   "outputs": [],
   "source": [
    "# Split data\n",
    "target = 'Depression'\n",
    "features = df.columns.difference([target])\n",
    "\n",
    "X = df[features]\n",
    "y = df[target]\n",
    "\n",
    "X_train, X_test, y_train, y_test = train_test_split(\n",
    "    X, y, test_size=0.2, random_state=42\n",
    ")"
   ]
  },
  {
   "cell_type": "markdown",
   "metadata": {},
   "source": [
    "## Modeling"
   ]
  },
  {
   "cell_type": "markdown",
   "metadata": {},
   "source": [
    "### Artificial Neural Network (ANN) Model"
   ]
  },
  {
   "cell_type": "code",
   "execution_count": 16,
   "metadata": {},
   "outputs": [
    {
     "name": "stdout",
     "output_type": "stream",
     "text": [
      "Epoch 1/100\n",
      "\u001b[1m52/52\u001b[0m \u001b[32m━━━━━━━━━━━━━━━━━━━━\u001b[0m\u001b[37m\u001b[0m \u001b[1m1s\u001b[0m 4ms/step - accuracy: 0.8294 - loss: 2.2890 - val_accuracy: 0.9075 - val_loss: 0.6563\n",
      "Epoch 2/100\n",
      "\u001b[1m52/52\u001b[0m \u001b[32m━━━━━━━━━━━━━━━━━━━━\u001b[0m\u001b[37m\u001b[0m \u001b[1m0s\u001b[0m 2ms/step - accuracy: 0.8562 - loss: 1.0719 - val_accuracy: 0.9173 - val_loss: 0.5102\n",
      "Epoch 3/100\n",
      "\u001b[1m52/52\u001b[0m \u001b[32m━━━━━━━━━━━━━━━━━━━━\u001b[0m\u001b[37m\u001b[0m \u001b[1m0s\u001b[0m 2ms/step - accuracy: 0.8818 - loss: 0.6026 - val_accuracy: 0.9319 - val_loss: 0.2198\n",
      "Epoch 4/100\n",
      "\u001b[1m52/52\u001b[0m \u001b[32m━━━━━━━━━━━━━━━━━━━━\u001b[0m\u001b[37m\u001b[0m \u001b[1m0s\u001b[0m 3ms/step - accuracy: 0.8969 - loss: 0.4183 - val_accuracy: 0.9343 - val_loss: 0.1555\n",
      "Epoch 5/100\n",
      "\u001b[1m52/52\u001b[0m \u001b[32m━━━━━━━━━━━━━━━━━━━━\u001b[0m\u001b[37m\u001b[0m \u001b[1m0s\u001b[0m 2ms/step - accuracy: 0.8839 - loss: 0.3811 - val_accuracy: 0.9294 - val_loss: 0.1948\n",
      "Epoch 6/100\n",
      "\u001b[1m52/52\u001b[0m \u001b[32m━━━━━━━━━━━━━━━━━━━━\u001b[0m\u001b[37m\u001b[0m \u001b[1m0s\u001b[0m 3ms/step - accuracy: 0.9027 - loss: 0.3283 - val_accuracy: 0.9343 - val_loss: 0.1805\n",
      "Epoch 7/100\n",
      "\u001b[1m52/52\u001b[0m \u001b[32m━━━━━━━━━━━━━━━━━━━━\u001b[0m\u001b[37m\u001b[0m \u001b[1m0s\u001b[0m 2ms/step - accuracy: 0.8979 - loss: 0.2643 - val_accuracy: 0.9197 - val_loss: 0.1841\n",
      "Epoch 8/100\n",
      "\u001b[1m52/52\u001b[0m \u001b[32m━━━━━━━━━━━━━━━━━━━━\u001b[0m\u001b[37m\u001b[0m \u001b[1m0s\u001b[0m 2ms/step - accuracy: 0.9090 - loss: 0.2446 - val_accuracy: 0.9294 - val_loss: 0.1772\n",
      "Epoch 9/100\n",
      "\u001b[1m52/52\u001b[0m \u001b[32m━━━━━━━━━━━━━━━━━━━━\u001b[0m\u001b[37m\u001b[0m \u001b[1m0s\u001b[0m 2ms/step - accuracy: 0.9246 - loss: 0.2029 - val_accuracy: 0.9197 - val_loss: 0.1858\n",
      "Epoch 10/100\n",
      "\u001b[1m52/52\u001b[0m \u001b[32m━━━━━━━━━━━━━━━━━━━━\u001b[0m\u001b[37m\u001b[0m \u001b[1m0s\u001b[0m 2ms/step - accuracy: 0.9231 - loss: 0.2060 - val_accuracy: 0.9294 - val_loss: 0.1738\n",
      "Epoch 11/100\n",
      "\u001b[1m52/52\u001b[0m \u001b[32m━━━━━━━━━━━━━━━━━━━━\u001b[0m\u001b[37m\u001b[0m \u001b[1m0s\u001b[0m 2ms/step - accuracy: 0.9175 - loss: 0.2352 - val_accuracy: 0.9294 - val_loss: 0.1612\n",
      "Epoch 12/100\n",
      "\u001b[1m52/52\u001b[0m \u001b[32m━━━━━━━━━━━━━━━━━━━━\u001b[0m\u001b[37m\u001b[0m \u001b[1m0s\u001b[0m 2ms/step - accuracy: 0.9213 - loss: 0.1768 - val_accuracy: 0.9319 - val_loss: 0.1573\n",
      "Epoch 13/100\n",
      "\u001b[1m52/52\u001b[0m \u001b[32m━━━━━━━━━━━━━━━━━━━━\u001b[0m\u001b[37m\u001b[0m \u001b[1m0s\u001b[0m 3ms/step - accuracy: 0.9221 - loss: 0.1725 - val_accuracy: 0.9343 - val_loss: 0.1540\n",
      "Epoch 14/100\n",
      "\u001b[1m52/52\u001b[0m \u001b[32m━━━━━━━━━━━━━━━━━━━━\u001b[0m\u001b[37m\u001b[0m \u001b[1m0s\u001b[0m 2ms/step - accuracy: 0.9217 - loss: 0.1948 - val_accuracy: 0.9392 - val_loss: 0.1530\n",
      "Epoch 15/100\n",
      "\u001b[1m52/52\u001b[0m \u001b[32m━━━━━━━━━━━━━━━━━━━━\u001b[0m\u001b[37m\u001b[0m \u001b[1m0s\u001b[0m 2ms/step - accuracy: 0.9339 - loss: 0.1586 - val_accuracy: 0.9465 - val_loss: 0.1358\n",
      "Epoch 16/100\n",
      "\u001b[1m52/52\u001b[0m \u001b[32m━━━━━━━━━━━━━━━━━━━━\u001b[0m\u001b[37m\u001b[0m \u001b[1m0s\u001b[0m 2ms/step - accuracy: 0.9238 - loss: 0.1795 - val_accuracy: 0.9465 - val_loss: 0.1455\n",
      "Epoch 17/100\n",
      "\u001b[1m52/52\u001b[0m \u001b[32m━━━━━━━━━━━━━━━━━━━━\u001b[0m\u001b[37m\u001b[0m \u001b[1m0s\u001b[0m 2ms/step - accuracy: 0.9333 - loss: 0.1565 - val_accuracy: 0.9465 - val_loss: 0.1295\n",
      "Epoch 18/100\n",
      "\u001b[1m52/52\u001b[0m \u001b[32m━━━━━━━━━━━━━━━━━━━━\u001b[0m\u001b[37m\u001b[0m \u001b[1m0s\u001b[0m 2ms/step - accuracy: 0.9439 - loss: 0.1386 - val_accuracy: 0.9489 - val_loss: 0.1164\n",
      "Epoch 19/100\n",
      "\u001b[1m52/52\u001b[0m \u001b[32m━━━━━━━━━━━━━━━━━━━━\u001b[0m\u001b[37m\u001b[0m \u001b[1m0s\u001b[0m 1ms/step - accuracy: 0.9370 - loss: 0.1426 - val_accuracy: 0.9489 - val_loss: 0.1150\n",
      "Epoch 20/100\n",
      "\u001b[1m52/52\u001b[0m \u001b[32m━━━━━━━━━━━━━━━━━━━━\u001b[0m\u001b[37m\u001b[0m \u001b[1m0s\u001b[0m 2ms/step - accuracy: 0.9439 - loss: 0.1432 - val_accuracy: 0.9538 - val_loss: 0.1122\n",
      "Epoch 21/100\n",
      "\u001b[1m52/52\u001b[0m \u001b[32m━━━━━━━━━━━━━━━━━━━━\u001b[0m\u001b[37m\u001b[0m \u001b[1m0s\u001b[0m 2ms/step - accuracy: 0.9425 - loss: 0.1455 - val_accuracy: 0.9513 - val_loss: 0.1083\n",
      "Epoch 22/100\n",
      "\u001b[1m52/52\u001b[0m \u001b[32m━━━━━━━━━━━━━━━━━━━━\u001b[0m\u001b[37m\u001b[0m \u001b[1m0s\u001b[0m 2ms/step - accuracy: 0.9495 - loss: 0.1327 - val_accuracy: 0.9538 - val_loss: 0.1010\n",
      "Epoch 23/100\n",
      "\u001b[1m52/52\u001b[0m \u001b[32m━━━━━━━━━━━━━━━━━━━━\u001b[0m\u001b[37m\u001b[0m \u001b[1m0s\u001b[0m 2ms/step - accuracy: 0.9454 - loss: 0.1360 - val_accuracy: 0.9538 - val_loss: 0.1033\n",
      "Epoch 24/100\n",
      "\u001b[1m52/52\u001b[0m \u001b[32m━━━━━━━━━━━━━━━━━━━━\u001b[0m\u001b[37m\u001b[0m \u001b[1m0s\u001b[0m 2ms/step - accuracy: 0.9438 - loss: 0.1358 - val_accuracy: 0.9538 - val_loss: 0.1005\n",
      "Epoch 25/100\n",
      "\u001b[1m52/52\u001b[0m \u001b[32m━━━━━━━━━━━━━━━━━━━━\u001b[0m\u001b[37m\u001b[0m \u001b[1m0s\u001b[0m 2ms/step - accuracy: 0.9237 - loss: 0.1592 - val_accuracy: 0.9538 - val_loss: 0.1039\n",
      "Epoch 26/100\n",
      "\u001b[1m52/52\u001b[0m \u001b[32m━━━━━━━━━━━━━━━━━━━━\u001b[0m\u001b[37m\u001b[0m \u001b[1m0s\u001b[0m 1ms/step - accuracy: 0.9374 - loss: 0.1316 - val_accuracy: 0.9586 - val_loss: 0.0859\n",
      "Epoch 27/100\n",
      "\u001b[1m52/52\u001b[0m \u001b[32m━━━━━━━━━━━━━━━━━━━━\u001b[0m\u001b[37m\u001b[0m \u001b[1m0s\u001b[0m 2ms/step - accuracy: 0.9453 - loss: 0.1420 - val_accuracy: 0.9635 - val_loss: 0.0905\n",
      "Epoch 28/100\n",
      "\u001b[1m52/52\u001b[0m \u001b[32m━━━━━━━━━━━━━━━━━━━━\u001b[0m\u001b[37m\u001b[0m \u001b[1m0s\u001b[0m 2ms/step - accuracy: 0.9524 - loss: 0.1114 - val_accuracy: 0.9684 - val_loss: 0.0864\n",
      "Epoch 29/100\n",
      "\u001b[1m52/52\u001b[0m \u001b[32m━━━━━━━━━━━━━━━━━━━━\u001b[0m\u001b[37m\u001b[0m \u001b[1m0s\u001b[0m 2ms/step - accuracy: 0.9507 - loss: 0.1199 - val_accuracy: 0.9586 - val_loss: 0.0861\n",
      "Epoch 30/100\n",
      "\u001b[1m52/52\u001b[0m \u001b[32m━━━━━━━━━━━━━━━━━━━━\u001b[0m\u001b[37m\u001b[0m \u001b[1m0s\u001b[0m 2ms/step - accuracy: 0.9515 - loss: 0.1206 - val_accuracy: 0.9708 - val_loss: 0.0817\n",
      "Epoch 31/100\n",
      "\u001b[1m52/52\u001b[0m \u001b[32m━━━━━━━━━━━━━━━━━━━━\u001b[0m\u001b[37m\u001b[0m \u001b[1m0s\u001b[0m 2ms/step - accuracy: 0.9546 - loss: 0.1025 - val_accuracy: 0.9611 - val_loss: 0.0798\n",
      "Epoch 32/100\n",
      "\u001b[1m52/52\u001b[0m \u001b[32m━━━━━━━━━━━━━━━━━━━━\u001b[0m\u001b[37m\u001b[0m \u001b[1m0s\u001b[0m 2ms/step - accuracy: 0.9542 - loss: 0.1128 - val_accuracy: 0.9440 - val_loss: 0.1101\n",
      "Epoch 33/100\n",
      "\u001b[1m52/52\u001b[0m \u001b[32m━━━━━━━━━━━━━━━━━━━━\u001b[0m\u001b[37m\u001b[0m \u001b[1m0s\u001b[0m 2ms/step - accuracy: 0.9525 - loss: 0.1084 - val_accuracy: 0.9659 - val_loss: 0.0792\n",
      "Epoch 34/100\n",
      "\u001b[1m52/52\u001b[0m \u001b[32m━━━━━━━━━━━━━━━━━━━━\u001b[0m\u001b[37m\u001b[0m \u001b[1m0s\u001b[0m 2ms/step - accuracy: 0.9592 - loss: 0.1103 - val_accuracy: 0.9586 - val_loss: 0.0847\n",
      "Epoch 35/100\n",
      "\u001b[1m52/52\u001b[0m \u001b[32m━━━━━━━━━━━━━━━━━━━━\u001b[0m\u001b[37m\u001b[0m \u001b[1m0s\u001b[0m 2ms/step - accuracy: 0.9500 - loss: 0.1035 - val_accuracy: 0.9732 - val_loss: 0.0708\n",
      "Epoch 36/100\n",
      "\u001b[1m52/52\u001b[0m \u001b[32m━━━━━━━━━━━━━━━━━━━━\u001b[0m\u001b[37m\u001b[0m \u001b[1m0s\u001b[0m 2ms/step - accuracy: 0.9537 - loss: 0.1148 - val_accuracy: 0.9732 - val_loss: 0.0700\n",
      "Epoch 37/100\n",
      "\u001b[1m52/52\u001b[0m \u001b[32m━━━━━━━━━━━━━━━━━━━━\u001b[0m\u001b[37m\u001b[0m \u001b[1m0s\u001b[0m 2ms/step - accuracy: 0.9525 - loss: 0.1067 - val_accuracy: 0.9732 - val_loss: 0.0676\n",
      "Epoch 38/100\n",
      "\u001b[1m52/52\u001b[0m \u001b[32m━━━━━━━━━━━━━━━━━━━━\u001b[0m\u001b[37m\u001b[0m \u001b[1m0s\u001b[0m 2ms/step - accuracy: 0.9683 - loss: 0.0846 - val_accuracy: 0.9708 - val_loss: 0.0701\n",
      "Epoch 39/100\n",
      "\u001b[1m52/52\u001b[0m \u001b[32m━━━━━━━━━━━━━━━━━━━━\u001b[0m\u001b[37m\u001b[0m \u001b[1m0s\u001b[0m 2ms/step - accuracy: 0.9648 - loss: 0.0977 - val_accuracy: 0.9757 - val_loss: 0.0603\n",
      "Epoch 40/100\n",
      "\u001b[1m52/52\u001b[0m \u001b[32m━━━━━━━━━━━━━━━━━━━━\u001b[0m\u001b[37m\u001b[0m \u001b[1m0s\u001b[0m 1ms/step - accuracy: 0.9542 - loss: 0.0991 - val_accuracy: 0.9805 - val_loss: 0.0609\n",
      "Epoch 41/100\n",
      "\u001b[1m52/52\u001b[0m \u001b[32m━━━━━━━━━━━━━━━━━━━━\u001b[0m\u001b[37m\u001b[0m \u001b[1m0s\u001b[0m 2ms/step - accuracy: 0.9494 - loss: 0.1041 - val_accuracy: 0.9586 - val_loss: 0.0704\n",
      "Epoch 42/100\n",
      "\u001b[1m52/52\u001b[0m \u001b[32m━━━━━━━━━━━━━━━━━━━━\u001b[0m\u001b[37m\u001b[0m \u001b[1m0s\u001b[0m 2ms/step - accuracy: 0.9727 - loss: 0.0601 - val_accuracy: 0.9830 - val_loss: 0.0502\n",
      "Epoch 43/100\n",
      "\u001b[1m52/52\u001b[0m \u001b[32m━━━━━━━━━━━━━━━━━━━━\u001b[0m\u001b[37m\u001b[0m \u001b[1m0s\u001b[0m 2ms/step - accuracy: 0.9586 - loss: 0.1012 - val_accuracy: 0.9830 - val_loss: 0.0560\n",
      "Epoch 44/100\n",
      "\u001b[1m52/52\u001b[0m \u001b[32m━━━━━━━━━━━━━━━━━━━━\u001b[0m\u001b[37m\u001b[0m \u001b[1m0s\u001b[0m 3ms/step - accuracy: 0.9614 - loss: 0.0888 - val_accuracy: 0.9757 - val_loss: 0.0572\n",
      "Epoch 45/100\n",
      "\u001b[1m52/52\u001b[0m \u001b[32m━━━━━━━━━━━━━━━━━━━━\u001b[0m\u001b[37m\u001b[0m \u001b[1m0s\u001b[0m 2ms/step - accuracy: 0.9693 - loss: 0.0807 - val_accuracy: 0.9805 - val_loss: 0.0503\n",
      "Epoch 46/100\n",
      "\u001b[1m52/52\u001b[0m \u001b[32m━━━━━━━━━━━━━━━━━━━━\u001b[0m\u001b[37m\u001b[0m \u001b[1m0s\u001b[0m 2ms/step - accuracy: 0.9652 - loss: 0.0846 - val_accuracy: 0.9805 - val_loss: 0.0478\n",
      "Epoch 47/100\n",
      "\u001b[1m52/52\u001b[0m \u001b[32m━━━━━━━━━━━━━━━━━━━━\u001b[0m\u001b[37m\u001b[0m \u001b[1m0s\u001b[0m 2ms/step - accuracy: 0.9708 - loss: 0.0700 - val_accuracy: 0.9805 - val_loss: 0.0463\n",
      "Epoch 48/100\n",
      "\u001b[1m52/52\u001b[0m \u001b[32m━━━━━━━━━━━━━━━━━━━━\u001b[0m\u001b[37m\u001b[0m \u001b[1m0s\u001b[0m 2ms/step - accuracy: 0.9648 - loss: 0.0821 - val_accuracy: 0.9805 - val_loss: 0.0497\n",
      "Epoch 49/100\n",
      "\u001b[1m52/52\u001b[0m \u001b[32m━━━━━━━━━━━━━━━━━━━━\u001b[0m\u001b[37m\u001b[0m \u001b[1m0s\u001b[0m 2ms/step - accuracy: 0.9680 - loss: 0.0858 - val_accuracy: 0.9732 - val_loss: 0.0503\n",
      "Epoch 50/100\n",
      "\u001b[1m52/52\u001b[0m \u001b[32m━━━━━━━━━━━━━━━━━━━━\u001b[0m\u001b[37m\u001b[0m \u001b[1m0s\u001b[0m 2ms/step - accuracy: 0.9609 - loss: 0.0976 - val_accuracy: 0.9805 - val_loss: 0.0489\n",
      "Epoch 51/100\n",
      "\u001b[1m52/52\u001b[0m \u001b[32m━━━━━━━━━━━━━━━━━━━━\u001b[0m\u001b[37m\u001b[0m \u001b[1m0s\u001b[0m 2ms/step - accuracy: 0.9716 - loss: 0.0826 - val_accuracy: 0.9732 - val_loss: 0.0540\n",
      "Epoch 52/100\n",
      "\u001b[1m52/52\u001b[0m \u001b[32m━━━━━━━━━━━━━━━━━━━━\u001b[0m\u001b[37m\u001b[0m \u001b[1m0s\u001b[0m 3ms/step - accuracy: 0.9675 - loss: 0.0708 - val_accuracy: 0.9830 - val_loss: 0.0423\n",
      "Epoch 53/100\n",
      "\u001b[1m52/52\u001b[0m \u001b[32m━━━━━━━━━━━━━━━━━━━━\u001b[0m\u001b[37m\u001b[0m \u001b[1m0s\u001b[0m 3ms/step - accuracy: 0.9749 - loss: 0.0676 - val_accuracy: 0.9805 - val_loss: 0.0482\n",
      "Epoch 54/100\n",
      "\u001b[1m52/52\u001b[0m \u001b[32m━━━━━━━━━━━━━━━━━━━━\u001b[0m\u001b[37m\u001b[0m \u001b[1m0s\u001b[0m 2ms/step - accuracy: 0.9710 - loss: 0.0677 - val_accuracy: 0.9830 - val_loss: 0.0400\n",
      "Epoch 55/100\n",
      "\u001b[1m52/52\u001b[0m \u001b[32m━━━━━━━━━━━━━━━━━━━━\u001b[0m\u001b[37m\u001b[0m \u001b[1m0s\u001b[0m 2ms/step - accuracy: 0.9659 - loss: 0.0786 - val_accuracy: 0.9830 - val_loss: 0.0425\n",
      "Epoch 56/100\n",
      "\u001b[1m52/52\u001b[0m \u001b[32m━━━━━━━━━━━━━━━━━━━━\u001b[0m\u001b[37m\u001b[0m \u001b[1m0s\u001b[0m 2ms/step - accuracy: 0.9610 - loss: 0.0881 - val_accuracy: 0.9781 - val_loss: 0.0463\n",
      "Epoch 57/100\n",
      "\u001b[1m52/52\u001b[0m \u001b[32m━━━━━━━━━━━━━━━━━━━━\u001b[0m\u001b[37m\u001b[0m \u001b[1m0s\u001b[0m 2ms/step - accuracy: 0.9633 - loss: 0.0767 - val_accuracy: 0.9878 - val_loss: 0.0375\n",
      "Epoch 58/100\n",
      "\u001b[1m52/52\u001b[0m \u001b[32m━━━━━━━━━━━━━━━━━━━━\u001b[0m\u001b[37m\u001b[0m \u001b[1m0s\u001b[0m 3ms/step - accuracy: 0.9753 - loss: 0.0605 - val_accuracy: 0.9635 - val_loss: 0.0727\n",
      "Epoch 59/100\n",
      "\u001b[1m52/52\u001b[0m \u001b[32m━━━━━━━━━━━━━━━━━━━━\u001b[0m\u001b[37m\u001b[0m \u001b[1m0s\u001b[0m 3ms/step - accuracy: 0.9723 - loss: 0.0714 - val_accuracy: 0.9830 - val_loss: 0.0380\n",
      "Epoch 60/100\n",
      "\u001b[1m52/52\u001b[0m \u001b[32m━━━━━━━━━━━━━━━━━━━━\u001b[0m\u001b[37m\u001b[0m \u001b[1m0s\u001b[0m 2ms/step - accuracy: 0.9767 - loss: 0.0565 - val_accuracy: 0.9781 - val_loss: 0.0421\n",
      "Epoch 61/100\n",
      "\u001b[1m52/52\u001b[0m \u001b[32m━━━━━━━━━━━━━━━━━━━━\u001b[0m\u001b[37m\u001b[0m \u001b[1m0s\u001b[0m 2ms/step - accuracy: 0.9677 - loss: 0.0779 - val_accuracy: 0.9830 - val_loss: 0.0398\n",
      "Epoch 62/100\n",
      "\u001b[1m52/52\u001b[0m \u001b[32m━━━━━━━━━━━━━━━━━━━━\u001b[0m\u001b[37m\u001b[0m \u001b[1m0s\u001b[0m 2ms/step - accuracy: 0.9718 - loss: 0.0660 - val_accuracy: 0.9830 - val_loss: 0.0361\n",
      "Epoch 63/100\n",
      "\u001b[1m52/52\u001b[0m \u001b[32m━━━━━━━━━━━━━━━━━━━━\u001b[0m\u001b[37m\u001b[0m \u001b[1m0s\u001b[0m 2ms/step - accuracy: 0.9798 - loss: 0.0493 - val_accuracy: 0.9781 - val_loss: 0.0404\n",
      "Epoch 64/100\n",
      "\u001b[1m52/52\u001b[0m \u001b[32m━━━━━━━━━━━━━━━━━━━━\u001b[0m\u001b[37m\u001b[0m \u001b[1m0s\u001b[0m 2ms/step - accuracy: 0.9779 - loss: 0.0461 - val_accuracy: 0.9781 - val_loss: 0.0455\n",
      "Epoch 65/100\n",
      "\u001b[1m52/52\u001b[0m \u001b[32m━━━━━━━━━━━━━━━━━━━━\u001b[0m\u001b[37m\u001b[0m \u001b[1m0s\u001b[0m 2ms/step - accuracy: 0.9771 - loss: 0.0522 - val_accuracy: 0.9805 - val_loss: 0.0398\n",
      "Epoch 66/100\n",
      "\u001b[1m52/52\u001b[0m \u001b[32m━━━━━━━━━━━━━━━━━━━━\u001b[0m\u001b[37m\u001b[0m \u001b[1m0s\u001b[0m 2ms/step - accuracy: 0.9696 - loss: 0.0694 - val_accuracy: 0.9878 - val_loss: 0.0311\n",
      "Epoch 67/100\n",
      "\u001b[1m52/52\u001b[0m \u001b[32m━━━━━━━━━━━━━━━━━━━━\u001b[0m\u001b[37m\u001b[0m \u001b[1m0s\u001b[0m 1ms/step - accuracy: 0.9804 - loss: 0.0530 - val_accuracy: 0.9805 - val_loss: 0.0361\n",
      "Epoch 68/100\n",
      "\u001b[1m52/52\u001b[0m \u001b[32m━━━━━━━━━━━━━━━━━━━━\u001b[0m\u001b[37m\u001b[0m \u001b[1m0s\u001b[0m 2ms/step - accuracy: 0.9762 - loss: 0.0577 - val_accuracy: 0.9830 - val_loss: 0.0386\n",
      "Epoch 69/100\n",
      "\u001b[1m52/52\u001b[0m \u001b[32m━━━━━━━━━━━━━━━━━━━━\u001b[0m\u001b[37m\u001b[0m \u001b[1m0s\u001b[0m 2ms/step - accuracy: 0.9735 - loss: 0.0638 - val_accuracy: 0.9976 - val_loss: 0.0302\n",
      "Epoch 70/100\n",
      "\u001b[1m52/52\u001b[0m \u001b[32m━━━━━━━━━━━━━━━━━━━━\u001b[0m\u001b[37m\u001b[0m \u001b[1m0s\u001b[0m 2ms/step - accuracy: 0.9738 - loss: 0.0539 - val_accuracy: 0.9830 - val_loss: 0.0355\n",
      "Epoch 71/100\n",
      "\u001b[1m52/52\u001b[0m \u001b[32m━━━━━━━━━━━━━━━━━━━━\u001b[0m\u001b[37m\u001b[0m \u001b[1m0s\u001b[0m 2ms/step - accuracy: 0.9830 - loss: 0.0505 - val_accuracy: 0.9830 - val_loss: 0.0331\n",
      "Epoch 72/100\n",
      "\u001b[1m52/52\u001b[0m \u001b[32m━━━━━━━━━━━━━━━━━━━━\u001b[0m\u001b[37m\u001b[0m \u001b[1m0s\u001b[0m 3ms/step - accuracy: 0.9723 - loss: 0.0673 - val_accuracy: 0.9927 - val_loss: 0.0245\n",
      "Epoch 73/100\n",
      "\u001b[1m52/52\u001b[0m \u001b[32m━━━━━━━━━━━━━━━━━━━━\u001b[0m\u001b[37m\u001b[0m \u001b[1m0s\u001b[0m 3ms/step - accuracy: 0.9824 - loss: 0.0547 - val_accuracy: 0.9757 - val_loss: 0.0380\n",
      "Epoch 74/100\n",
      "\u001b[1m52/52\u001b[0m \u001b[32m━━━━━━━━━━━━━━━━━━━━\u001b[0m\u001b[37m\u001b[0m \u001b[1m0s\u001b[0m 2ms/step - accuracy: 0.9717 - loss: 0.0624 - val_accuracy: 0.9854 - val_loss: 0.0305\n",
      "Epoch 75/100\n",
      "\u001b[1m52/52\u001b[0m \u001b[32m━━━━━━━━━━━━━━━━━━━━\u001b[0m\u001b[37m\u001b[0m \u001b[1m0s\u001b[0m 2ms/step - accuracy: 0.9828 - loss: 0.0405 - val_accuracy: 0.9854 - val_loss: 0.0288\n",
      "Epoch 76/100\n",
      "\u001b[1m52/52\u001b[0m \u001b[32m━━━━━━━━━━━━━━━━━━━━\u001b[0m\u001b[37m\u001b[0m \u001b[1m0s\u001b[0m 2ms/step - accuracy: 0.9702 - loss: 0.0545 - val_accuracy: 0.9976 - val_loss: 0.0228\n",
      "Epoch 77/100\n",
      "\u001b[1m52/52\u001b[0m \u001b[32m━━━━━━━━━━━━━━━━━━━━\u001b[0m\u001b[37m\u001b[0m \u001b[1m0s\u001b[0m 3ms/step - accuracy: 0.9659 - loss: 0.0777 - val_accuracy: 0.9781 - val_loss: 0.0428\n",
      "Epoch 78/100\n",
      "\u001b[1m52/52\u001b[0m \u001b[32m━━━━━━━━━━━━━━━━━━━━\u001b[0m\u001b[37m\u001b[0m \u001b[1m0s\u001b[0m 2ms/step - accuracy: 0.9810 - loss: 0.0489 - val_accuracy: 0.9830 - val_loss: 0.0373\n",
      "Epoch 79/100\n",
      "\u001b[1m52/52\u001b[0m \u001b[32m━━━━━━━━━━━━━━━━━━━━\u001b[0m\u001b[37m\u001b[0m \u001b[1m0s\u001b[0m 2ms/step - accuracy: 0.9788 - loss: 0.0509 - val_accuracy: 0.9732 - val_loss: 0.0482\n",
      "Epoch 80/100\n",
      "\u001b[1m52/52\u001b[0m \u001b[32m━━━━━━━━━━━━━━━━━━━━\u001b[0m\u001b[37m\u001b[0m \u001b[1m0s\u001b[0m 1ms/step - accuracy: 0.9745 - loss: 0.0560 - val_accuracy: 0.9878 - val_loss: 0.0287\n",
      "Epoch 81/100\n",
      "\u001b[1m52/52\u001b[0m \u001b[32m━━━━━━━━━━━━━━━━━━━━\u001b[0m\u001b[37m\u001b[0m \u001b[1m0s\u001b[0m 1ms/step - accuracy: 0.9782 - loss: 0.0515 - val_accuracy: 0.9805 - val_loss: 0.0353\n",
      "Epoch 82/100\n",
      "\u001b[1m52/52\u001b[0m \u001b[32m━━━━━━━━━━━━━━━━━━━━\u001b[0m\u001b[37m\u001b[0m \u001b[1m0s\u001b[0m 2ms/step - accuracy: 0.9913 - loss: 0.0278 - val_accuracy: 0.9757 - val_loss: 0.0395\n",
      "Epoch 83/100\n",
      "\u001b[1m52/52\u001b[0m \u001b[32m━━━━━━━━━━━━━━━━━━━━\u001b[0m\u001b[37m\u001b[0m \u001b[1m0s\u001b[0m 2ms/step - accuracy: 0.9856 - loss: 0.0399 - val_accuracy: 0.9903 - val_loss: 0.0225\n",
      "Epoch 84/100\n",
      "\u001b[1m52/52\u001b[0m \u001b[32m━━━━━━━━━━━━━━━━━━━━\u001b[0m\u001b[37m\u001b[0m \u001b[1m0s\u001b[0m 2ms/step - accuracy: 0.9758 - loss: 0.0525 - val_accuracy: 0.9830 - val_loss: 0.0332\n",
      "Epoch 85/100\n",
      "\u001b[1m52/52\u001b[0m \u001b[32m━━━━━━━━━━━━━━━━━━━━\u001b[0m\u001b[37m\u001b[0m \u001b[1m0s\u001b[0m 2ms/step - accuracy: 0.9863 - loss: 0.0335 - val_accuracy: 0.9878 - val_loss: 0.0246\n",
      "Epoch 86/100\n",
      "\u001b[1m52/52\u001b[0m \u001b[32m━━━━━━━━━━━━━━━━━━━━\u001b[0m\u001b[37m\u001b[0m \u001b[1m0s\u001b[0m 5ms/step - accuracy: 0.9835 - loss: 0.0420 - val_accuracy: 0.9976 - val_loss: 0.0179\n",
      "Epoch 87/100\n",
      "\u001b[1m52/52\u001b[0m \u001b[32m━━━━━━━━━━━━━━━━━━━━\u001b[0m\u001b[37m\u001b[0m \u001b[1m0s\u001b[0m 2ms/step - accuracy: 0.9802 - loss: 0.0505 - val_accuracy: 0.9805 - val_loss: 0.0371\n",
      "Epoch 88/100\n",
      "\u001b[1m52/52\u001b[0m \u001b[32m━━━━━━━━━━━━━━━━━━━━\u001b[0m\u001b[37m\u001b[0m \u001b[1m0s\u001b[0m 2ms/step - accuracy: 0.9894 - loss: 0.0304 - val_accuracy: 0.9830 - val_loss: 0.0309\n",
      "Epoch 89/100\n",
      "\u001b[1m52/52\u001b[0m \u001b[32m━━━━━━━━━━━━━━━━━━━━\u001b[0m\u001b[37m\u001b[0m \u001b[1m0s\u001b[0m 2ms/step - accuracy: 0.9856 - loss: 0.0438 - val_accuracy: 0.9976 - val_loss: 0.0197\n",
      "Epoch 90/100\n",
      "\u001b[1m52/52\u001b[0m \u001b[32m━━━━━━━━━━━━━━━━━━━━\u001b[0m\u001b[37m\u001b[0m \u001b[1m0s\u001b[0m 2ms/step - accuracy: 0.9759 - loss: 0.0508 - val_accuracy: 0.9976 - val_loss: 0.0163\n",
      "Epoch 91/100\n",
      "\u001b[1m52/52\u001b[0m \u001b[32m━━━━━━━━━━━━━━━━━━━━\u001b[0m\u001b[37m\u001b[0m \u001b[1m0s\u001b[0m 2ms/step - accuracy: 0.9833 - loss: 0.0357 - val_accuracy: 0.9903 - val_loss: 0.0220\n",
      "Epoch 92/100\n",
      "\u001b[1m52/52\u001b[0m \u001b[32m━━━━━━━━━━━━━━━━━━━━\u001b[0m\u001b[37m\u001b[0m \u001b[1m0s\u001b[0m 2ms/step - accuracy: 0.9842 - loss: 0.0394 - val_accuracy: 0.9854 - val_loss: 0.0241\n",
      "Epoch 93/100\n",
      "\u001b[1m52/52\u001b[0m \u001b[32m━━━━━━━━━━━━━━━━━━━━\u001b[0m\u001b[37m\u001b[0m \u001b[1m0s\u001b[0m 2ms/step - accuracy: 0.9858 - loss: 0.0339 - val_accuracy: 0.9951 - val_loss: 0.0196\n",
      "Epoch 94/100\n",
      "\u001b[1m52/52\u001b[0m \u001b[32m━━━━━━━━━━━━━━━━━━━━\u001b[0m\u001b[37m\u001b[0m \u001b[1m0s\u001b[0m 2ms/step - accuracy: 0.9771 - loss: 0.0527 - val_accuracy: 0.9854 - val_loss: 0.0274\n",
      "Epoch 95/100\n",
      "\u001b[1m52/52\u001b[0m \u001b[32m━━━━━━━━━━━━━━━━━━━━\u001b[0m\u001b[37m\u001b[0m \u001b[1m0s\u001b[0m 2ms/step - accuracy: 0.9828 - loss: 0.0418 - val_accuracy: 0.9854 - val_loss: 0.0286\n",
      "Epoch 96/100\n",
      "\u001b[1m52/52\u001b[0m \u001b[32m━━━━━━━━━━━━━━━━━━━━\u001b[0m\u001b[37m\u001b[0m \u001b[1m0s\u001b[0m 2ms/step - accuracy: 0.9845 - loss: 0.0465 - val_accuracy: 0.9903 - val_loss: 0.0187\n",
      "Epoch 97/100\n",
      "\u001b[1m52/52\u001b[0m \u001b[32m━━━━━━━━━━━━━━━━━━━━\u001b[0m\u001b[37m\u001b[0m \u001b[1m0s\u001b[0m 2ms/step - accuracy: 0.9845 - loss: 0.0357 - val_accuracy: 0.9927 - val_loss: 0.0161\n",
      "Epoch 98/100\n",
      "\u001b[1m52/52\u001b[0m \u001b[32m━━━━━━━━━━━━━━━━━━━━\u001b[0m\u001b[37m\u001b[0m \u001b[1m0s\u001b[0m 2ms/step - accuracy: 0.9843 - loss: 0.0397 - val_accuracy: 0.9830 - val_loss: 0.0333\n",
      "Epoch 99/100\n",
      "\u001b[1m52/52\u001b[0m \u001b[32m━━━━━━━━━━━━━━━━━━━━\u001b[0m\u001b[37m\u001b[0m \u001b[1m0s\u001b[0m 2ms/step - accuracy: 0.9909 - loss: 0.0281 - val_accuracy: 0.9781 - val_loss: 0.0380\n",
      "Epoch 100/100\n",
      "\u001b[1m52/52\u001b[0m \u001b[32m━━━━━━━━━━━━━━━━━━━━\u001b[0m\u001b[37m\u001b[0m \u001b[1m0s\u001b[0m 2ms/step - accuracy: 0.9834 - loss: 0.0436 - val_accuracy: 0.9854 - val_loss: 0.0233\n"
     ]
    }
   ],
   "source": [
    "# Create ANN model\n",
    "model = tf.keras.Sequential([\n",
    "    tf.keras.layers.Input(shape=(X_train.shape[1],)),\n",
    "    tf.keras.layers.Dense(128, activation='relu', kernel_initializer='he_uniform'),\n",
    "    tf.keras.layers.Dropout(0.2),\n",
    "    tf.keras.layers.Dense(64, activation='relu', kernel_initializer='he_uniform'),\n",
    "    tf.keras.layers.Dropout(0.2),\n",
    "    tf.keras.layers.Dense(1, activation='sigmoid')\n",
    "])\n",
    "\n",
    "model.compile(\n",
    "    optimizer=tf.keras.optimizers.Adam(learning_rate=1e-3),\n",
    "    loss='binary_crossentropy',\n",
    "    metrics=['accuracy']\n",
    ")\n",
    "\n",
    "history = model.fit(\n",
    "    X_train, y_train,\n",
    "    validation_data=(X_test, y_test),\n",
    "    epochs=100,\n",
    "    batch_size=32,\n",
    "    verbose=1\n",
    ")"
   ]
  },
  {
   "cell_type": "markdown",
   "metadata": {},
   "source": [
    "## Model Evaluation"
   ]
  },
  {
   "cell_type": "code",
   "execution_count": 17,
   "metadata": {},
   "outputs": [
    {
     "data": {
      "image/png": "[encoded data removed]",
      "text/plain": [
       "<Figure size 1400x500 with 2 Axes>"
      ]
     },
     "metadata": {},
     "output_type": "display_data"
    }
   ],
   "source": [
    "# Evaluate model\n",
    "plt.figure(figsize=(14, 5))\n",
    "\n",
    "plt.subplot(1, 2, 1)\n",
    "plt.plot(history.history['accuracy'], label='Train')\n",
    "plt.plot(history.history['val_accuracy'], label='Validation')\n",
    "plt.title('Model Accuracy')\n",
    "plt.xlabel('Epoch')\n",
    "plt.ylabel('Accuracy')\n",
    "plt.legend(loc='upper left')\n",
    "\n",
    "plt.subplot(1, 2, 2)\n",
    "plt.plot(history.history['loss'], label='Train')\n",
    "plt.plot(history.history['val_loss'], label='Validation')\n",
    "plt.title('Model Loss')\n",
    "plt.xlabel('Epoch')\n",
    "plt.ylabel('Loss')\n",
    "plt.legend(loc='upper left')\n",
    "\n",
    "plt.tight_layout()\n",
    "plt.show()"
   ]
  },
  {
   "cell_type": "code",
   "execution_count": 18,
   "metadata": {},
   "outputs": [
    {
     "name": "stdout",
     "output_type": "stream",
     "text": [
      "\u001b[1m13/13\u001b[0m \u001b[32m━━━━━━━━━━━━━━━━━━━━\u001b[0m\u001b[37m\u001b[0m \u001b[1m0s\u001b[0m 3ms/step \n",
      "               precision    recall  f1-score   support\n",
      "\n",
      "No Depression       0.98      1.00      0.99       368\n",
      "   Depression       1.00      0.86      0.93        43\n",
      "\n",
      "     accuracy                           0.99       411\n",
      "    macro avg       0.99      0.93      0.96       411\n",
      " weighted avg       0.99      0.99      0.98       411\n",
      "\n"
     ]
    }
   ],
   "source": [
    "# Classification report\n",
    "y_pred_test = (model.predict(X_test) > 0.5).astype(int).ravel()\n",
    "\n",
    "report = classification_report(\n",
    "    y_test, y_pred_test,\n",
    "    target_names=['No Depression', 'Depression']\n",
    ")\n",
    "\n",
    "print(report)"
   ]
  },
  {
   "cell_type": "code",
   "execution_count": 19,
   "metadata": {},
   "outputs": [
    {
     "data": {
      "image/png": "[encoded data removed]",
      "text/plain": [
       "<Figure size 800x600 with 2 Axes>"
      ]
     },
     "metadata": {},
     "output_type": "display_data"
    }
   ],
   "source": [
    "# Confusion matrix\n",
    "cm = confusion_matrix(y_test, y_pred_test)\n",
    "labels = ['No Depression', 'Depression']\n",
    "\n",
    "plt.figure(figsize=(8, 6))\n",
    "sns.heatmap(\n",
    "    cm, annot=True, fmt='d', cmap='Blues',\n",
    "    xticklabels=labels, yticklabels=labels\n",
    ")\n",
    "plt.xlabel('Predicted')\n",
    "plt.ylabel('Actual')\n",
    "plt.title('Confusion Matrix')\n",
    "plt.tight_layout()\n",
    "plt.show()"
   ]
  },
  {
   "cell_type": "markdown",
   "metadata": {},
   "source": [
    "## Prediction"
   ]
  },
  {
   "cell_type": "code",
   "execution_count": 20,
   "metadata": {},
   "outputs": [
    {
     "name": "stdout",
     "output_type": "stream",
     "text": [
      "\u001b[1m1/1\u001b[0m \u001b[32m━━━━━━━━━━━━━━━━━━━━\u001b[0m\u001b[37m\u001b[0m \u001b[1m0s\u001b[0m 41ms/step\n",
      "Data 1:\n",
      "Predicted Probability: 0.0000000005\n",
      "Predicted: 0\n",
      "------------------------------\n",
      "Data 2:\n",
      "Predicted Probability: 0.9999206662\n",
      "Predicted: 1\n",
      "------------------------------\n"
     ]
    }
   ],
   "source": [
    "# Predict new data\n",
    "new_data = np.array([\n",
    "    [1, 20, 5, 1, 5, 0, 1, 10, 5, 1],\n",
    "    [1, 21, 2, 5, 8, 2, 0, 4, 1, 0]\n",
    "])\n",
    "\n",
    "predictions = model.predict(new_data)\n",
    "\n",
    "for i, prob in enumerate(predictions, 1):\n",
    "    predicted_class = int(prob[0] > 0.5)\n",
    "    print(f\"Data {i}:\")\n",
    "    print(f\"Predicted Probability: {prob[0]:.10f}\")\n",
    "    print(f\"Predicted: {predicted_class}\")\n",
    "    print('-' * 30)"
   ]
  },
  {
   "cell_type": "markdown",
   "metadata": {},
   "source": [
    "## Save Model"
   ]
  },
  {
   "cell_type": "code",
   "execution_count": 21,
   "metadata": {},
   "outputs": [
    {
     "name": "stderr",
     "output_type": "stream",
     "text": [
      "WARNING:absl:You are saving your model as an HDF5 file via `model.save()` or `keras.saving.save_model(model)`. This file format is considered legacy. We recommend using instead the native Keras format, e.g. `model.save('my_model.keras')` or `keras.saving.save_model(model, 'my_model.keras')`. \n"
     ]
    }
   ],
   "source": [
    "# Save model\n",
    "model.save('../backend/models/ann_professional.h5')"
   ]
  }
 ],
 "metadata": {
  "kernelspec": {
   "display_name": "venv",
   "language": "python",
   "name": "python3"
  },
  "language_info": {
   "codemirror_mode": {
    "name": "ipython",
    "version": 3
   },
   "file_extension": ".py",
   "mimetype": "text/x-python",
   "name": "python",
   "nbconvert_exporter": "python",
   "pygments_lexer": "ipython3",
   "version": "3.11.9"
  }
 },
 "nbformat": 4,
 "nbformat_minor": 2
}
